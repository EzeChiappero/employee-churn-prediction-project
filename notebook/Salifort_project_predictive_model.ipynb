{
 "cells": [
  {
   "cell_type": "markdown",
   "id": "d509d878",
   "metadata": {},
   "source": [
    "# Salifort Motors. Employee retention project"
   ]
  },
  {
   "cell_type": "markdown",
   "id": "65f8aaee",
   "metadata": {},
   "source": [
    "### Goal\n",
    "Predicting employee retention. The company is struggling to keep its workforce, resulting in a high turnover rate and high HR costs. The goal is to understand what actions can influence this situation.\n",
    "### Dataset\n",
    "We have data of Salifort employees such as satisfaction reported level, score of last performance review, number of project involved, average number of hours worked per month, tenure, if the employee suffer an accident or not, department, and salary level.\n",
    "### Plan\n",
    "Since the variable we are seeking to predict is categorical, the team will build a logistic regression and a tree-based machine learning models to check which perform better."
   ]
  },
  {
   "cell_type": "markdown",
   "id": "1ceb39a7",
   "metadata": {},
   "source": [
    "## Package Importing and Data Loading"
   ]
  },
  {
   "cell_type": "code",
   "execution_count": 3,
   "id": "98333c62",
   "metadata": {},
   "outputs": [],
   "source": [
    "# Import packages\n",
    "# Standard operational package imports\n",
    "import numpy as np\n",
    "import pandas as pd\n",
    "\n",
    "# Important imports for modeling and evaluation\n",
    "from sklearn.model_selection import train_test_split, GridSearchCV, PredefinedSplit, RandomizedSearchCV\n",
    "from sklearn.linear_model import LogisticRegression\n",
    "from statsmodels.stats.outliers_influence import variance_inflation_factor\n",
    "from sklearn.tree import DecisionTreeClassifier, plot_tree\n",
    "from xgboost import XGBClassifier, plot_importance\n",
    "from sklearn.ensemble import RandomForestClassifier\n",
    "from sklearn.metrics import RocCurveDisplay, accuracy_score, precision_score, recall_score,\\\n",
    "f1_score, confusion_matrix, ConfusionMatrixDisplay, roc_auc_score, classification_report\n",
    "\n",
    "# Visualization package imports\n",
    "import matplotlib.pyplot as plt\n",
    "import seaborn as sns\n",
    "\n",
    "# This module lets us save our models once we fit them.\n",
    "import joblib\n",
    "\n",
    "# This module lets us check time consumed for model training and tuning\n",
    "import time"
   ]
  },
  {
   "cell_type": "code",
   "execution_count": 4,
   "id": "dcfdfe57",
   "metadata": {},
   "outputs": [
    {
     "data": {
      "text/html": [
       "<div>\n",
       "<style scoped>\n",
       "    .dataframe tbody tr th:only-of-type {\n",
       "        vertical-align: middle;\n",
       "    }\n",
       "\n",
       "    .dataframe tbody tr th {\n",
       "        vertical-align: top;\n",
       "    }\n",
       "\n",
       "    .dataframe thead th {\n",
       "        text-align: right;\n",
       "    }\n",
       "</style>\n",
       "<table border=\"1\" class=\"dataframe\">\n",
       "  <thead>\n",
       "    <tr style=\"text-align: right;\">\n",
       "      <th></th>\n",
       "      <th>satisfaction_level</th>\n",
       "      <th>last_evaluation</th>\n",
       "      <th>number_project</th>\n",
       "      <th>average_montly_hours</th>\n",
       "      <th>time_spend_company</th>\n",
       "      <th>Work_accident</th>\n",
       "      <th>left</th>\n",
       "      <th>promotion_last_5years</th>\n",
       "      <th>Department</th>\n",
       "      <th>salary</th>\n",
       "    </tr>\n",
       "  </thead>\n",
       "  <tbody>\n",
       "    <tr>\n",
       "      <th>0</th>\n",
       "      <td>0.38</td>\n",
       "      <td>0.53</td>\n",
       "      <td>2</td>\n",
       "      <td>157</td>\n",
       "      <td>3</td>\n",
       "      <td>0</td>\n",
       "      <td>1</td>\n",
       "      <td>0</td>\n",
       "      <td>sales</td>\n",
       "      <td>low</td>\n",
       "    </tr>\n",
       "    <tr>\n",
       "      <th>1</th>\n",
       "      <td>0.80</td>\n",
       "      <td>0.86</td>\n",
       "      <td>5</td>\n",
       "      <td>262</td>\n",
       "      <td>6</td>\n",
       "      <td>0</td>\n",
       "      <td>1</td>\n",
       "      <td>0</td>\n",
       "      <td>sales</td>\n",
       "      <td>medium</td>\n",
       "    </tr>\n",
       "    <tr>\n",
       "      <th>2</th>\n",
       "      <td>0.11</td>\n",
       "      <td>0.88</td>\n",
       "      <td>7</td>\n",
       "      <td>272</td>\n",
       "      <td>4</td>\n",
       "      <td>0</td>\n",
       "      <td>1</td>\n",
       "      <td>0</td>\n",
       "      <td>sales</td>\n",
       "      <td>medium</td>\n",
       "    </tr>\n",
       "    <tr>\n",
       "      <th>3</th>\n",
       "      <td>0.72</td>\n",
       "      <td>0.87</td>\n",
       "      <td>5</td>\n",
       "      <td>223</td>\n",
       "      <td>5</td>\n",
       "      <td>0</td>\n",
       "      <td>1</td>\n",
       "      <td>0</td>\n",
       "      <td>sales</td>\n",
       "      <td>low</td>\n",
       "    </tr>\n",
       "    <tr>\n",
       "      <th>4</th>\n",
       "      <td>0.37</td>\n",
       "      <td>0.52</td>\n",
       "      <td>2</td>\n",
       "      <td>159</td>\n",
       "      <td>3</td>\n",
       "      <td>0</td>\n",
       "      <td>1</td>\n",
       "      <td>0</td>\n",
       "      <td>sales</td>\n",
       "      <td>low</td>\n",
       "    </tr>\n",
       "  </tbody>\n",
       "</table>\n",
       "</div>"
      ],
      "text/plain": [
       "   satisfaction_level  last_evaluation  number_project  average_montly_hours  \\\n",
       "0                0.38             0.53               2                   157   \n",
       "1                0.80             0.86               5                   262   \n",
       "2                0.11             0.88               7                   272   \n",
       "3                0.72             0.87               5                   223   \n",
       "4                0.37             0.52               2                   159   \n",
       "\n",
       "   time_spend_company  Work_accident  left  promotion_last_5years Department  \\\n",
       "0                   3              0     1                      0      sales   \n",
       "1                   6              0     1                      0      sales   \n",
       "2                   4              0     1                      0      sales   \n",
       "3                   5              0     1                      0      sales   \n",
       "4                   3              0     1                      0      sales   \n",
       "\n",
       "   salary  \n",
       "0     low  \n",
       "1  medium  \n",
       "2  medium  \n",
       "3     low  \n",
       "4     low  "
      ]
     },
     "execution_count": 4,
     "metadata": {},
     "output_type": "execute_result"
    }
   ],
   "source": [
    "# Load dataset into a dataframe\n",
    "df0 = pd.read_csv(\"HR_capstone_dataset.csv\")\n",
    "\n",
    "# Display first few rows of the dataframe\n",
    "df0.head()"
   ]
  },
  {
   "cell_type": "code",
   "execution_count": 5,
   "id": "1b2d723d",
   "metadata": {},
   "outputs": [
    {
     "data": {
      "text/plain": [
       "satisfaction_level       float64\n",
       "last_evaluation          float64\n",
       "number_project             int64\n",
       "average_montly_hours       int64\n",
       "time_spend_company         int64\n",
       "Work_accident              int64\n",
       "left                       int64\n",
       "promotion_last_5years      int64\n",
       "Department                object\n",
       "salary                    object\n",
       "dtype: object"
      ]
     },
     "execution_count": 5,
     "metadata": {},
     "output_type": "execute_result"
    }
   ],
   "source": [
    "# Gather basic information about the data\n",
    "df0.dtypes"
   ]
  },
  {
   "cell_type": "code",
   "execution_count": 6,
   "id": "cc9c834a",
   "metadata": {},
   "outputs": [
    {
     "name": "stdout",
     "output_type": "stream",
     "text": [
      "Unique values in time_spend_company:\n",
      "[ 3  6  4  5  2  8 10  7]\n",
      "----------------------------------------\n",
      "Unique values in Work_accident:\n",
      "[0 1]\n",
      "----------------------------------------\n",
      "Unique values in left:\n",
      "[1 0]\n",
      "----------------------------------------\n",
      "Unique values in promotion_last_5years:\n",
      "[0 1]\n",
      "----------------------------------------\n",
      "Unique values in Department:\n",
      "['sales' 'accounting' 'hr' 'technical' 'support' 'management' 'IT'\n",
      " 'product_mng' 'marketing' 'RandD']\n",
      "----------------------------------------\n",
      "Unique values in salary:\n",
      "['low' 'medium' 'high']\n",
      "----------------------------------------\n"
     ]
    }
   ],
   "source": [
    "cols = [\"time_spend_company\", \"Work_accident\", \"left\", \n",
    "        \"promotion_last_5years\", \"Department\", \"salary\"]\n",
    "\n",
    "for col in cols:\n",
    "    print(f\"Unique values in {col}:\")\n",
    "    print(df0[col].unique())\n",
    "    print(\"-\" * 40)"
   ]
  },
  {
   "cell_type": "code",
   "execution_count": 7,
   "id": "984e4346",
   "metadata": {},
   "outputs": [
    {
     "data": {
      "text/html": [
       "<div>\n",
       "<style scoped>\n",
       "    .dataframe tbody tr th:only-of-type {\n",
       "        vertical-align: middle;\n",
       "    }\n",
       "\n",
       "    .dataframe tbody tr th {\n",
       "        vertical-align: top;\n",
       "    }\n",
       "\n",
       "    .dataframe thead th {\n",
       "        text-align: right;\n",
       "    }\n",
       "</style>\n",
       "<table border=\"1\" class=\"dataframe\">\n",
       "  <thead>\n",
       "    <tr style=\"text-align: right;\">\n",
       "      <th></th>\n",
       "      <th>satisfaction_level</th>\n",
       "      <th>last_evaluation</th>\n",
       "      <th>number_project</th>\n",
       "      <th>average_montly_hours</th>\n",
       "      <th>time_spend_company</th>\n",
       "      <th>Work_accident</th>\n",
       "      <th>left</th>\n",
       "      <th>promotion_last_5years</th>\n",
       "      <th>Department</th>\n",
       "      <th>salary</th>\n",
       "    </tr>\n",
       "  </thead>\n",
       "  <tbody>\n",
       "    <tr>\n",
       "      <th>count</th>\n",
       "      <td>14999.000000</td>\n",
       "      <td>14999.000000</td>\n",
       "      <td>14999.000000</td>\n",
       "      <td>14999.000000</td>\n",
       "      <td>14999.000000</td>\n",
       "      <td>14999.000000</td>\n",
       "      <td>14999.000000</td>\n",
       "      <td>14999.000000</td>\n",
       "      <td>14999</td>\n",
       "      <td>14999</td>\n",
       "    </tr>\n",
       "    <tr>\n",
       "      <th>unique</th>\n",
       "      <td>NaN</td>\n",
       "      <td>NaN</td>\n",
       "      <td>NaN</td>\n",
       "      <td>NaN</td>\n",
       "      <td>NaN</td>\n",
       "      <td>NaN</td>\n",
       "      <td>NaN</td>\n",
       "      <td>NaN</td>\n",
       "      <td>10</td>\n",
       "      <td>3</td>\n",
       "    </tr>\n",
       "    <tr>\n",
       "      <th>top</th>\n",
       "      <td>NaN</td>\n",
       "      <td>NaN</td>\n",
       "      <td>NaN</td>\n",
       "      <td>NaN</td>\n",
       "      <td>NaN</td>\n",
       "      <td>NaN</td>\n",
       "      <td>NaN</td>\n",
       "      <td>NaN</td>\n",
       "      <td>sales</td>\n",
       "      <td>low</td>\n",
       "    </tr>\n",
       "    <tr>\n",
       "      <th>freq</th>\n",
       "      <td>NaN</td>\n",
       "      <td>NaN</td>\n",
       "      <td>NaN</td>\n",
       "      <td>NaN</td>\n",
       "      <td>NaN</td>\n",
       "      <td>NaN</td>\n",
       "      <td>NaN</td>\n",
       "      <td>NaN</td>\n",
       "      <td>4140</td>\n",
       "      <td>7316</td>\n",
       "    </tr>\n",
       "    <tr>\n",
       "      <th>mean</th>\n",
       "      <td>0.612834</td>\n",
       "      <td>0.716102</td>\n",
       "      <td>3.803054</td>\n",
       "      <td>201.050337</td>\n",
       "      <td>3.498233</td>\n",
       "      <td>0.144610</td>\n",
       "      <td>0.238083</td>\n",
       "      <td>0.021268</td>\n",
       "      <td>NaN</td>\n",
       "      <td>NaN</td>\n",
       "    </tr>\n",
       "    <tr>\n",
       "      <th>std</th>\n",
       "      <td>0.248631</td>\n",
       "      <td>0.171169</td>\n",
       "      <td>1.232592</td>\n",
       "      <td>49.943099</td>\n",
       "      <td>1.460136</td>\n",
       "      <td>0.351719</td>\n",
       "      <td>0.425924</td>\n",
       "      <td>0.144281</td>\n",
       "      <td>NaN</td>\n",
       "      <td>NaN</td>\n",
       "    </tr>\n",
       "    <tr>\n",
       "      <th>min</th>\n",
       "      <td>0.090000</td>\n",
       "      <td>0.360000</td>\n",
       "      <td>2.000000</td>\n",
       "      <td>96.000000</td>\n",
       "      <td>2.000000</td>\n",
       "      <td>0.000000</td>\n",
       "      <td>0.000000</td>\n",
       "      <td>0.000000</td>\n",
       "      <td>NaN</td>\n",
       "      <td>NaN</td>\n",
       "    </tr>\n",
       "    <tr>\n",
       "      <th>25%</th>\n",
       "      <td>0.440000</td>\n",
       "      <td>0.560000</td>\n",
       "      <td>3.000000</td>\n",
       "      <td>156.000000</td>\n",
       "      <td>3.000000</td>\n",
       "      <td>0.000000</td>\n",
       "      <td>0.000000</td>\n",
       "      <td>0.000000</td>\n",
       "      <td>NaN</td>\n",
       "      <td>NaN</td>\n",
       "    </tr>\n",
       "    <tr>\n",
       "      <th>50%</th>\n",
       "      <td>0.640000</td>\n",
       "      <td>0.720000</td>\n",
       "      <td>4.000000</td>\n",
       "      <td>200.000000</td>\n",
       "      <td>3.000000</td>\n",
       "      <td>0.000000</td>\n",
       "      <td>0.000000</td>\n",
       "      <td>0.000000</td>\n",
       "      <td>NaN</td>\n",
       "      <td>NaN</td>\n",
       "    </tr>\n",
       "    <tr>\n",
       "      <th>75%</th>\n",
       "      <td>0.820000</td>\n",
       "      <td>0.870000</td>\n",
       "      <td>5.000000</td>\n",
       "      <td>245.000000</td>\n",
       "      <td>4.000000</td>\n",
       "      <td>0.000000</td>\n",
       "      <td>0.000000</td>\n",
       "      <td>0.000000</td>\n",
       "      <td>NaN</td>\n",
       "      <td>NaN</td>\n",
       "    </tr>\n",
       "    <tr>\n",
       "      <th>max</th>\n",
       "      <td>1.000000</td>\n",
       "      <td>1.000000</td>\n",
       "      <td>7.000000</td>\n",
       "      <td>310.000000</td>\n",
       "      <td>10.000000</td>\n",
       "      <td>1.000000</td>\n",
       "      <td>1.000000</td>\n",
       "      <td>1.000000</td>\n",
       "      <td>NaN</td>\n",
       "      <td>NaN</td>\n",
       "    </tr>\n",
       "  </tbody>\n",
       "</table>\n",
       "</div>"
      ],
      "text/plain": [
       "        satisfaction_level  last_evaluation  number_project  \\\n",
       "count         14999.000000     14999.000000    14999.000000   \n",
       "unique                 NaN              NaN             NaN   \n",
       "top                    NaN              NaN             NaN   \n",
       "freq                   NaN              NaN             NaN   \n",
       "mean              0.612834         0.716102        3.803054   \n",
       "std               0.248631         0.171169        1.232592   \n",
       "min               0.090000         0.360000        2.000000   \n",
       "25%               0.440000         0.560000        3.000000   \n",
       "50%               0.640000         0.720000        4.000000   \n",
       "75%               0.820000         0.870000        5.000000   \n",
       "max               1.000000         1.000000        7.000000   \n",
       "\n",
       "        average_montly_hours  time_spend_company  Work_accident          left  \\\n",
       "count           14999.000000        14999.000000   14999.000000  14999.000000   \n",
       "unique                   NaN                 NaN            NaN           NaN   \n",
       "top                      NaN                 NaN            NaN           NaN   \n",
       "freq                     NaN                 NaN            NaN           NaN   \n",
       "mean              201.050337            3.498233       0.144610      0.238083   \n",
       "std                49.943099            1.460136       0.351719      0.425924   \n",
       "min                96.000000            2.000000       0.000000      0.000000   \n",
       "25%               156.000000            3.000000       0.000000      0.000000   \n",
       "50%               200.000000            3.000000       0.000000      0.000000   \n",
       "75%               245.000000            4.000000       0.000000      0.000000   \n",
       "max               310.000000           10.000000       1.000000      1.000000   \n",
       "\n",
       "        promotion_last_5years Department salary  \n",
       "count            14999.000000      14999  14999  \n",
       "unique                    NaN         10      3  \n",
       "top                       NaN      sales    low  \n",
       "freq                      NaN       4140   7316  \n",
       "mean                 0.021268        NaN    NaN  \n",
       "std                  0.144281        NaN    NaN  \n",
       "min                  0.000000        NaN    NaN  \n",
       "25%                  0.000000        NaN    NaN  \n",
       "50%                  0.000000        NaN    NaN  \n",
       "75%                  0.000000        NaN    NaN  \n",
       "max                  1.000000        NaN    NaN  "
      ]
     },
     "execution_count": 7,
     "metadata": {},
     "output_type": "execute_result"
    }
   ],
   "source": [
    "# Gather descriptive statistics about the data\n",
    "df0.describe(include=\"all\")"
   ]
  },
  {
   "cell_type": "code",
   "execution_count": 8,
   "id": "ec3c7c31",
   "metadata": {},
   "outputs": [
    {
     "data": {
      "text/plain": [
       "Index(['satisfaction_level', 'last_evaluation', 'number_project',\n",
       "       'average_montly_hours', 'time_spend_company', 'Work_accident', 'left',\n",
       "       'promotion_last_5years', 'Department', 'salary'],\n",
       "      dtype='object')"
      ]
     },
     "execution_count": 8,
     "metadata": {},
     "output_type": "execute_result"
    }
   ],
   "source": [
    "# Display all column names\n",
    "df0.columns"
   ]
  },
  {
   "cell_type": "markdown",
   "id": "18a05ad1",
   "metadata": {},
   "source": [
    "## Data Cleaning and Preparation"
   ]
  },
  {
   "cell_type": "code",
   "execution_count": 9,
   "id": "3f87f192",
   "metadata": {},
   "outputs": [
    {
     "data": {
      "text/plain": [
       "Index(['satisfaction', 'last_evaluation', 'number_project', 'avg_hours',\n",
       "       'tenure', 'accident', 'left', 'promotion', 'department', 'salary'],\n",
       "      dtype='object')"
      ]
     },
     "execution_count": 9,
     "metadata": {},
     "output_type": "execute_result"
    }
   ],
   "source": [
    "# Rename columns as needed\n",
    "df0 = df0.rename(columns={'time_spend_company':'tenure','satisfaction_level':'satisfaction', 'average_montly_hours': 'avg_hours', 'Work_accident':'accident','promotion_last_5years':'promotion','Department':'department'})\n",
    "\n",
    "# Display all column names after the update\n",
    "df0.columns"
   ]
  },
  {
   "cell_type": "code",
   "execution_count": 10,
   "id": "43282995",
   "metadata": {},
   "outputs": [
    {
     "data": {
      "text/plain": [
       "satisfaction       0\n",
       "last_evaluation    0\n",
       "number_project     0\n",
       "avg_hours          0\n",
       "tenure             0\n",
       "accident           0\n",
       "left               0\n",
       "promotion          0\n",
       "department         0\n",
       "salary             0\n",
       "dtype: int64"
      ]
     },
     "execution_count": 10,
     "metadata": {},
     "output_type": "execute_result"
    }
   ],
   "source": [
    "# Check for missing values\n",
    "df0.isnull().sum()"
   ]
  },
  {
   "cell_type": "code",
   "execution_count": 11,
   "id": "98e76313",
   "metadata": {},
   "outputs": [
    {
     "data": {
      "text/plain": [
       "5346"
      ]
     },
     "execution_count": 11,
     "metadata": {},
     "output_type": "execute_result"
    }
   ],
   "source": [
    "# Check for duplicates\n",
    "df0.duplicated(keep=False).sum()"
   ]
  },
  {
   "cell_type": "code",
   "execution_count": 12,
   "id": "f1bc4fa7",
   "metadata": {},
   "outputs": [
    {
     "data": {
      "text/plain": [
       "(14999, 10)"
      ]
     },
     "execution_count": 12,
     "metadata": {},
     "output_type": "execute_result"
    }
   ],
   "source": [
    "# Check data frame shape\n",
    "df0.shape"
   ]
  },
  {
   "cell_type": "code",
   "execution_count": 13,
   "id": "294782a3",
   "metadata": {},
   "outputs": [
    {
     "name": "stdout",
     "output_type": "stream",
     "text": [
      "Top 5 Most Frequent Row Combinations (Duplicates):\n",
      "satisfaction  last_evaluation  number_project  avg_hours  tenure  accident  left  promotion  department  salary\n",
      "0.46          0.57             2               139        3       0         1     0          sales       low       6\n",
      "0.37          0.46             2               156        3       0         1     0          sales       low       4\n",
      "0.10          0.85             6               266        4       0         1     0          sales       low       4\n",
      "0.41          0.46             2               128        3       0         1     0          accounting  low       4\n",
      "0.42          0.53             2               142        3       0         1     0          sales       low       4\n",
      "dtype: int64\n"
     ]
    }
   ],
   "source": [
    "# Inspect some rows containing duplicates as needed\n",
    "# Count the frequency of every unique row combination\n",
    "# This series will show how many times each unique row appears\n",
    "# (The rows that appear more than once are your duplicates)\n",
    "duplicate_counts = df0.value_counts()\n",
    "\n",
    "# Filter for combinations that appeared more than once and show the top 5\n",
    "print(\"Top 5 Most Frequent Row Combinations (Duplicates):\")\n",
    "top_5_duplicates = duplicate_counts[duplicate_counts > 1].head(5)\n",
    "\n",
    "if top_5_duplicates.empty:\n",
    "    print(\"No rows appeared more than once (no duplicates found after counting).\")\n",
    "else:\n",
    "    print(top_5_duplicates)"
   ]
  },
  {
   "cell_type": "code",
   "execution_count": 14,
   "id": "154b6642",
   "metadata": {},
   "outputs": [
    {
     "data": {
      "text/html": [
       "<div>\n",
       "<style scoped>\n",
       "    .dataframe tbody tr th:only-of-type {\n",
       "        vertical-align: middle;\n",
       "    }\n",
       "\n",
       "    .dataframe tbody tr th {\n",
       "        vertical-align: top;\n",
       "    }\n",
       "\n",
       "    .dataframe thead th {\n",
       "        text-align: right;\n",
       "    }\n",
       "</style>\n",
       "<table border=\"1\" class=\"dataframe\">\n",
       "  <thead>\n",
       "    <tr style=\"text-align: right;\">\n",
       "      <th></th>\n",
       "      <th>satisfaction</th>\n",
       "      <th>last_evaluation</th>\n",
       "      <th>number_project</th>\n",
       "      <th>avg_hours</th>\n",
       "      <th>tenure</th>\n",
       "      <th>accident</th>\n",
       "      <th>left</th>\n",
       "      <th>promotion</th>\n",
       "      <th>department</th>\n",
       "      <th>salary</th>\n",
       "    </tr>\n",
       "  </thead>\n",
       "  <tbody>\n",
       "    <tr>\n",
       "      <th>0</th>\n",
       "      <td>0.38</td>\n",
       "      <td>0.53</td>\n",
       "      <td>2</td>\n",
       "      <td>157</td>\n",
       "      <td>3</td>\n",
       "      <td>0</td>\n",
       "      <td>1</td>\n",
       "      <td>0</td>\n",
       "      <td>sales</td>\n",
       "      <td>low</td>\n",
       "    </tr>\n",
       "    <tr>\n",
       "      <th>1</th>\n",
       "      <td>0.80</td>\n",
       "      <td>0.86</td>\n",
       "      <td>5</td>\n",
       "      <td>262</td>\n",
       "      <td>6</td>\n",
       "      <td>0</td>\n",
       "      <td>1</td>\n",
       "      <td>0</td>\n",
       "      <td>sales</td>\n",
       "      <td>medium</td>\n",
       "    </tr>\n",
       "    <tr>\n",
       "      <th>2</th>\n",
       "      <td>0.11</td>\n",
       "      <td>0.88</td>\n",
       "      <td>7</td>\n",
       "      <td>272</td>\n",
       "      <td>4</td>\n",
       "      <td>0</td>\n",
       "      <td>1</td>\n",
       "      <td>0</td>\n",
       "      <td>sales</td>\n",
       "      <td>medium</td>\n",
       "    </tr>\n",
       "    <tr>\n",
       "      <th>3</th>\n",
       "      <td>0.72</td>\n",
       "      <td>0.87</td>\n",
       "      <td>5</td>\n",
       "      <td>223</td>\n",
       "      <td>5</td>\n",
       "      <td>0</td>\n",
       "      <td>1</td>\n",
       "      <td>0</td>\n",
       "      <td>sales</td>\n",
       "      <td>low</td>\n",
       "    </tr>\n",
       "    <tr>\n",
       "      <th>4</th>\n",
       "      <td>0.37</td>\n",
       "      <td>0.52</td>\n",
       "      <td>2</td>\n",
       "      <td>159</td>\n",
       "      <td>3</td>\n",
       "      <td>0</td>\n",
       "      <td>1</td>\n",
       "      <td>0</td>\n",
       "      <td>sales</td>\n",
       "      <td>low</td>\n",
       "    </tr>\n",
       "  </tbody>\n",
       "</table>\n",
       "</div>"
      ],
      "text/plain": [
       "   satisfaction  last_evaluation  number_project  avg_hours  tenure  accident  \\\n",
       "0          0.38             0.53               2        157       3         0   \n",
       "1          0.80             0.86               5        262       6         0   \n",
       "2          0.11             0.88               7        272       4         0   \n",
       "3          0.72             0.87               5        223       5         0   \n",
       "4          0.37             0.52               2        159       3         0   \n",
       "\n",
       "   left  promotion department  salary  \n",
       "0     1          0      sales     low  \n",
       "1     1          0      sales  medium  \n",
       "2     1          0      sales  medium  \n",
       "3     1          0      sales     low  \n",
       "4     1          0      sales     low  "
      ]
     },
     "execution_count": 14,
     "metadata": {},
     "output_type": "execute_result"
    }
   ],
   "source": [
    "# Drop duplicates and save resulting dataframe in a new variable as needed\n",
    "df1 = df0.drop_duplicates(inplace=False)\n",
    "\n",
    "# Display first few rows of new dataframe as needed\n",
    "df1.head()"
   ]
  },
  {
   "cell_type": "code",
   "execution_count": 15,
   "id": "2a1d8e52",
   "metadata": {},
   "outputs": [
    {
     "data": {
      "text/plain": [
       "(11991, 10)"
      ]
     },
     "execution_count": 15,
     "metadata": {},
     "output_type": "execute_result"
    }
   ],
   "source": [
    "df1.shape"
   ]
  },
  {
   "cell_type": "markdown",
   "id": "7ab0b8a5",
   "metadata": {},
   "source": [
    "## Exploratory Data Analysis (EDA) and Feature Engineering"
   ]
  },
  {
   "cell_type": "code",
   "execution_count": 16,
   "id": "58ed3cb4",
   "metadata": {},
   "outputs": [
    {
     "data": {
      "image/png": "[encoded data removed]",
      "text/plain": [
       "<Figure size 1080x1080 with 5 Axes>"
      ]
     },
     "metadata": {
      "needs_background": "light"
     },
     "output_type": "display_data"
    }
   ],
   "source": [
    "# Create a boxplot to visualize distribution of `tenure` and detect any outliers\n",
    "# Select the core numerical columns for visualization\n",
    "numerical_cols = [\n",
    "    'satisfaction',\n",
    "    'last_evaluation',\n",
    "    'number_project',\n",
    "    'avg_hours',\n",
    "    'tenure'\n",
    "]\n",
    "\n",
    "# Set up the subplot grid (4 rows, 2 columns)\n",
    "fig, axes = plt.subplots(3, 2, figsize=(15, 15))\n",
    "axes = axes.flatten() # Flatten the 2x3 array of axes for easy indexing\n",
    "\n",
    "# Remove the last (unused) subplot\n",
    "fig.delaxes(axes[5])\n",
    "\n",
    "# Loop through the columns and create a boxplot on each subplot\n",
    "for i, col in enumerate(numerical_cols):\n",
    "    df1.boxplot(column=col, ax=axes[i])\n",
    "    axes[i].set_title(f'Box Plot of {col}', fontsize=14)\n",
    "    axes[i].set_ylabel(col)\n",
    "    axes[i].grid(axis='y', linestyle='--')\n",
    "\n",
    "# Adjust layout to prevent titles from overlapping\n",
    "plt.tight_layout()\n",
    "# plt.show() # In your environment"
   ]
  },
  {
   "cell_type": "code",
   "execution_count": 17,
   "id": "cfaf6d64",
   "metadata": {},
   "outputs": [
    {
     "data": {
      "image/png": "[encoded data removed]",
      "text/plain": [
       "<Figure size 1080x1080 with 5 Axes>"
      ]
     },
     "metadata": {
      "needs_background": "light"
     },
     "output_type": "display_data"
    }
   ],
   "source": [
    "fig, axes = plt.subplots(3, 2, figsize=(15, 15))\n",
    "axes = axes.flatten() # Flatten the 2x3 array of axes for easy indexing\n",
    "\n",
    "# Remove the last (unused) subplot\n",
    "fig.delaxes(axes[5])\n",
    "\n",
    "# Loop through the columns and create a boxplot on each subplot\n",
    "for i, col in enumerate(numerical_cols):\n",
    "    df1.hist(column=col, ax=axes[i])\n",
    "    axes[i].set_title(f'Box Plot of {col}', fontsize=14)\n",
    "    axes[i].set_ylabel(col)\n",
    "    axes[i].grid(axis='y', linestyle='--')\n",
    "\n",
    "# Adjust layout to prevent titles from overlapping\n",
    "plt.tight_layout()\n",
    "# plt.show() # In your environment"
   ]
  },
  {
   "cell_type": "code",
   "execution_count": 18,
   "id": "cf6c5a73",
   "metadata": {},
   "outputs": [
    {
     "name": "stdout",
     "output_type": "stream",
     "text": [
      "\n",
      "--- Outlier Check (Z-score > 3) ---\n",
      "Column 'avg_hours': 188 outliers found.\n"
     ]
    }
   ],
   "source": [
    "# Determine the number of rows containing outliers\n",
    "# Calculate the Z-scores\n",
    "z_scores = np.abs((df1['tenure'] - df1['tenure'].mean()) / df1['tenure'].std())\n",
    "\n",
    "# Count how many data points have a Z-score greater than 3\n",
    "outlier_count = (z_scores > 3).sum()\n",
    "\n",
    "print(f\"\\n--- Outlier Check (Z-score > 3) ---\")\n",
    "print(f\"Column 'avg_hours': {outlier_count} outliers found.\")"
   ]
  },
  {
   "cell_type": "code",
   "execution_count": 19,
   "id": "f7d6e317",
   "metadata": {},
   "outputs": [
    {
     "data": {
      "text/plain": [
       "satisfaction       float64\n",
       "last_evaluation    float64\n",
       "number_project       int64\n",
       "avg_hours            int64\n",
       "tenure               int64\n",
       "accident             int64\n",
       "left                 int64\n",
       "promotion            int64\n",
       "department          object\n",
       "salary              object\n",
       "dtype: object"
      ]
     },
     "execution_count": 19,
     "metadata": {},
     "output_type": "execute_result"
    }
   ],
   "source": [
    "df1.dtypes"
   ]
  },
  {
   "cell_type": "code",
   "execution_count": 20,
   "id": "1142984f",
   "metadata": {},
   "outputs": [],
   "source": [
    "df1 = pd.get_dummies(df1, columns=['department', 'salary'], drop_first=True)"
   ]
  },
  {
   "cell_type": "code",
   "execution_count": 21,
   "id": "6e391782",
   "metadata": {},
   "outputs": [
    {
     "data": {
      "text/plain": [
       "0    0.833959\n",
       "1    0.166041\n",
       "Name: left, dtype: float64"
      ]
     },
     "execution_count": 21,
     "metadata": {},
     "output_type": "execute_result"
    }
   ],
   "source": [
    "# Get numbers of people who left vs. stayed\n",
    "df1['left'].value_counts()\n",
    "\n",
    "# Get percentages of people who left vs. stayed\n",
    "df1['left'].value_counts() / len(df1)"
   ]
  },
  {
   "cell_type": "code",
   "execution_count": 22,
   "id": "d5dfced5",
   "metadata": {},
   "outputs": [
    {
     "data": {
      "text/plain": [
       "satisfaction              float64\n",
       "last_evaluation           float64\n",
       "number_project              int64\n",
       "avg_hours                   int64\n",
       "tenure                      int64\n",
       "accident                    int64\n",
       "left                        int64\n",
       "promotion                   int64\n",
       "department_RandD            uint8\n",
       "department_accounting       uint8\n",
       "department_hr               uint8\n",
       "department_management       uint8\n",
       "department_marketing        uint8\n",
       "department_product_mng      uint8\n",
       "department_sales            uint8\n",
       "department_support          uint8\n",
       "department_technical        uint8\n",
       "salary_low                  uint8\n",
       "salary_medium               uint8\n",
       "dtype: object"
      ]
     },
     "execution_count": 22,
     "metadata": {},
     "output_type": "execute_result"
    }
   ],
   "source": [
    "df1.dtypes"
   ]
  },
  {
   "cell_type": "code",
   "execution_count": 23,
   "id": "fd2c5797",
   "metadata": {},
   "outputs": [
    {
     "data": {
      "text/plain": [
       "Index(['satisfaction', 'last_evaluation', 'number_project', 'avg_hours',\n",
       "       'tenure', 'accident', 'left', 'promotion', 'department_RandD',\n",
       "       'department_accounting', 'department_hr', 'department_management',\n",
       "       'department_marketing', 'department_product_mng', 'department_sales',\n",
       "       'department_support', 'department_technical', 'salary_low',\n",
       "       'salary_medium'],\n",
       "      dtype='object')"
      ]
     },
     "execution_count": 23,
     "metadata": {},
     "output_type": "execute_result"
    }
   ],
   "source": [
    "df1.columns"
   ]
  },
  {
   "cell_type": "markdown",
   "id": "5ad9d909",
   "metadata": {},
   "source": [
    "## Model Building and Training"
   ]
  },
  {
   "cell_type": "markdown",
   "id": "3a59ab02",
   "metadata": {},
   "source": [
    "### Logistic Regression"
   ]
  },
  {
   "cell_type": "markdown",
   "id": "55a1bdca",
   "metadata": {},
   "source": [
    "Our first model to evaluate is the most simple, Logistic Regression. We need to assure that there is no multicollinearity between two predictor variables, we'll check that with the variance inflation factor method."
   ]
  },
  {
   "cell_type": "code",
   "execution_count": 24,
   "id": "da3e10c7",
   "metadata": {},
   "outputs": [
    {
     "name": "stdout",
     "output_type": "stream",
     "text": [
      "--- Multicollinearity Check (VIF) ---\n",
      "                   feature        VIF\n",
      "0          last_evaluation  20.109922\n",
      "1                avg_hours  19.146531\n",
      "2           number_project  13.868252\n",
      "3             satisfaction   8.116624\n",
      "4                   tenure   7.603370\n",
      "5               salary_low   5.935720\n",
      "6            salary_medium   5.462437\n",
      "7         department_sales   3.690612\n",
      "8     department_technical   2.873215\n",
      "9       department_support   2.525617\n",
      "10        department_RandD   1.580897\n",
      "11  department_product_mng   1.566254\n",
      "12    department_marketing   1.561373\n",
      "13   department_accounting   1.510067\n",
      "14           department_hr   1.494589\n",
      "15                    left   1.442282\n",
      "16   department_management   1.385165\n",
      "17                accident   1.200606\n",
      "18               promotion   1.043781\n"
     ]
    }
   ],
   "source": [
    "### CHECK MULTICOLLINEARITY\n",
    "# Assuming df1 is your DataFrame *after* one-hot encoding,\n",
    "# and it contains ONLY the independent (predictor) variables.\n",
    "\n",
    "# Create a DataFrame to store the VIF results\n",
    "vif_data = pd.DataFrame()\n",
    "vif_data[\"feature\"] = df1.columns\n",
    "\n",
    "# Calculate VIF for each feature\n",
    "# We use a try/except block just in case a column is perfectly correlated (VIF will be infinite)\n",
    "for i in range(len(df1.columns)):\n",
    "    try:\n",
    "        vif_data.loc[i, 'VIF'] = variance_inflation_factor(df1.values, i)\n",
    "    except Exception:\n",
    "        vif_data.loc[i, 'VIF'] = float('inf')\n",
    "\n",
    "# Sort and display the results\n",
    "vif_data = vif_data.sort_values(by='VIF', ascending=False).reset_index(drop=True)\n",
    "\n",
    "print(\"--- Multicollinearity Check (VIF) ---\")\n",
    "print(vif_data)"
   ]
  },
  {
   "cell_type": "code",
   "execution_count": 25,
   "id": "dca67504",
   "metadata": {},
   "outputs": [
    {
     "name": "stdout",
     "output_type": "stream",
     "text": [
      "--- Multicollinearity Check (VIF) ---\n",
      "                   feature        VIF\n",
      "0                avg_hours  17.462139\n",
      "1           number_project  12.769000\n",
      "2             satisfaction   7.484520\n",
      "3                   tenure   7.456860\n",
      "4               salary_low   5.789970\n",
      "5            salary_medium   5.341348\n",
      "6         department_sales   3.638606\n",
      "7     department_technical   2.830266\n",
      "8       department_support   2.487101\n",
      "9         department_RandD   1.569412\n",
      "10  department_product_mng   1.553593\n",
      "11    department_marketing   1.546707\n",
      "12   department_accounting   1.495561\n",
      "13           department_hr   1.481053\n",
      "14                    left   1.437897\n",
      "15   department_management   1.372961\n",
      "16                accident   1.200451\n",
      "17               promotion   1.043716\n"
     ]
    }
   ],
   "source": [
    "df2 = df1.drop('last_evaluation', axis=1)\n",
    "vif_data2 = pd.DataFrame()\n",
    "vif_data2[\"feature\"] = df2.columns\n",
    "# Calculate VIF for each feature\n",
    "# We use a try/except block just in case a column is perfectly correlated (VIF will be infinite)\n",
    "for i in range(len(df2.columns)):\n",
    "    try:\n",
    "        vif_data2.loc[i, 'VIF'] = variance_inflation_factor(df2.values, i)\n",
    "    except Exception:\n",
    "        vif_data2.loc[i, 'VIF'] = float('inf')\n",
    "\n",
    "# Sort and display the results\n",
    "vif_data2 = vif_data2.sort_values(by='VIF', ascending=False).reset_index(drop=True)\n",
    "\n",
    "print(\"--- Multicollinearity Check (VIF) ---\")\n",
    "print(vif_data2)"
   ]
  },
  {
   "cell_type": "code",
   "execution_count": 26,
   "id": "fd63cdc8",
   "metadata": {},
   "outputs": [
    {
     "name": "stdout",
     "output_type": "stream",
     "text": [
      "--- Multicollinearity Check (VIF) ---\n",
      "                   feature       VIF\n",
      "0           number_project  9.845605\n",
      "1                   tenure  7.261270\n",
      "2             satisfaction  6.907423\n",
      "3               salary_low  5.589968\n",
      "4            salary_medium  5.159163\n",
      "5         department_sales  3.526761\n",
      "6     department_technical  2.754236\n",
      "7       department_support  2.425790\n",
      "8         department_RandD  1.544357\n",
      "9   department_product_mng  1.531643\n",
      "10    department_marketing  1.522457\n",
      "11   department_accounting  1.472164\n",
      "12           department_hr  1.457638\n",
      "13                    left  1.417836\n",
      "14   department_management  1.353539\n",
      "15                accident  1.200114\n",
      "16               promotion  1.043701\n"
     ]
    }
   ],
   "source": [
    "df3 = df2.drop('avg_hours', axis=1)\n",
    "vif_data3 = pd.DataFrame()\n",
    "vif_data3[\"feature\"] = df3.columns\n",
    "# Calculate VIF for each feature\n",
    "# We use a try/except block just in case a column is perfectly correlated (VIF will be infinite)\n",
    "for i in range(len(df3.columns)):\n",
    "    try:\n",
    "        vif_data3.loc[i, 'VIF'] = variance_inflation_factor(df3.values, i)\n",
    "    except Exception:\n",
    "        vif_data3.loc[i, 'VIF'] = float('inf')\n",
    "\n",
    "# Sort and display the results\n",
    "vif_data3 = vif_data3.sort_values(by='VIF', ascending=False).reset_index(drop=True)\n",
    "\n",
    "print(\"--- Multicollinearity Check (VIF) ---\")\n",
    "print(vif_data3)"
   ]
  },
  {
   "cell_type": "code",
   "execution_count": 27,
   "id": "387fc749",
   "metadata": {},
   "outputs": [],
   "source": [
    "X = df3.drop('left', axis=1)\n",
    "y = df3['left']\n",
    "\n",
    "# Split dataset into training and holdout datasets\n",
    "X_tr, X_test, y_tr, y_test = train_test_split(X,y, test_size=0.3, random_state=42, stratify=y)\n",
    "X_train, X_val, y_train, y_val = train_test_split(X_tr, y_tr, test_size=0.3, random_state=42, stratify=y_tr)"
   ]
  },
  {
   "cell_type": "code",
   "execution_count": 28,
   "id": "0e4e3cdd",
   "metadata": {},
   "outputs": [],
   "source": [
    "clf = LogisticRegression().fit(X_train,y_train)"
   ]
  },
  {
   "cell_type": "code",
   "execution_count": 29,
   "id": "aec6051e",
   "metadata": {},
   "outputs": [],
   "source": [
    "y_pred = clf.predict(X_val)"
   ]
  },
  {
   "cell_type": "code",
   "execution_count": 30,
   "id": "b711b172",
   "metadata": {},
   "outputs": [
    {
     "data": {
      "text/plain": [
       "array([0.10146585, 0.22107069, 0.39899145, ..., 0.36501065, 0.48725214,\n",
       "       0.08667095])"
      ]
     },
     "execution_count": 30,
     "metadata": {},
     "output_type": "execute_result"
    }
   ],
   "source": [
    "y_pred_proba = clf.predict_proba(X_val)[:, 1]\n",
    "y_pred_proba"
   ]
  },
  {
   "cell_type": "code",
   "execution_count": 47,
   "id": "33094dc8",
   "metadata": {},
   "outputs": [
    {
     "data": {
      "text/plain": [
       "<sklearn.metrics._plot.confusion_matrix.ConfusionMatrixDisplay at 0x1b8651c18b0>"
      ]
     },
     "execution_count": 47,
     "metadata": {},
     "output_type": "execute_result"
    },
    {
     "data": {
      "image/png": "[encoded data removed]",
      "text/plain": [
       "<Figure size 432x288 with 2 Axes>"
      ]
     },
     "metadata": {
      "needs_background": "light"
     },
     "output_type": "display_data"
    }
   ],
   "source": [
    "cm = confusion_matrix(y_val, y_pred, labels = clf.classes_)\n",
    "disp = ConfusionMatrixDisplay(confusion_matrix = cm,display_labels=['Stays', 'Leaves'])\n",
    "disp.plot(values_format='d')"
   ]
  },
  {
   "cell_type": "markdown",
   "id": "2fc5364e",
   "metadata": {},
   "source": [
    "We want to compare models, so we'll build a comparison table that will be filled with the key metrics we are looking to."
   ]
  },
  {
   "cell_type": "code",
   "execution_count": 48,
   "id": "490bace8",
   "metadata": {},
   "outputs": [
    {
     "name": "stdout",
     "output_type": "stream",
     "text": [
      "           Logistic Regression Random Forest\n",
      "Accuracy              0.823670           NaN\n",
      "Precision             0.419753           NaN\n",
      "Recall                0.162679           NaN\n",
      "F1-Score              0.234483           NaN\n",
      "ROC AUC               0.827487           NaN\n"
     ]
    }
   ],
   "source": [
    "# Create an empty DataFrame with the desired structure\n",
    "metrics_df = pd.DataFrame(\n",
    "    columns=['Logistic Regression', 'Random Forest'],\n",
    "    index=['Accuracy', 'Precision', 'Recall', 'F1-Score', 'ROC AUC']\n",
    ")\n",
    "\n",
    "# --- Calculate Metrics ---\n",
    "accuracy = accuracy_score(y_val, y_pred)\n",
    "precision = precision_score(y_val, y_pred)\n",
    "recall = recall_score(y_val, y_pred)\n",
    "f1 = f1_score(y_val, y_pred)\n",
    "roc_auc = roc_auc_score(y_val, y_pred_proba)\n",
    "\n",
    "# --- Store them in a list ---\n",
    "log_reg_metrics = [accuracy, precision, recall, f1, roc_auc]\n",
    "\n",
    "# Add the list of metrics to the 'Logistic Regression' column\n",
    "metrics_df['Logistic Regression'] = log_reg_metrics\n",
    "\n",
    "# Display the updated table\n",
    "print(metrics_df)"
   ]
  },
  {
   "cell_type": "markdown",
   "id": "d06fcc5e",
   "metadata": {},
   "source": [
    "### Tree-based Models"
   ]
  },
  {
   "cell_type": "markdown",
   "id": "0717fe62",
   "metadata": {},
   "source": [
    "### Random Forest"
   ]
  },
  {
   "cell_type": "markdown",
   "id": "55fd4f1c",
   "metadata": {},
   "source": [
    "Secondly, we'll try tree-based models, random forest, and XGBoost"
   ]
  },
  {
   "cell_type": "code",
   "execution_count": 49,
   "id": "acbb3b0e",
   "metadata": {},
   "outputs": [],
   "source": [
    "### Modeling\n",
    "# Define the y (target) variable\n",
    "y = df1[\"left\"]\n",
    "\n",
    "# Define the X (predictor) variables\n",
    "X = df1.drop(\"left\", axis = 1)\n",
    "\n",
    "# Split dataset into training and holdout datasets\n",
    "X_tr, X_test, y_tr, y_test = train_test_split(X,y, test_size=0.3, random_state=42, stratify=y)\n",
    "X_train, X_val, y_train, y_val = train_test_split(X_tr, y_tr, test_size=0.3, random_state=42, stratify=y_tr)"
   ]
  },
  {
   "cell_type": "code",
   "execution_count": 50,
   "id": "557a1b57",
   "metadata": {},
   "outputs": [
    {
     "name": "stdout",
     "output_type": "stream",
     "text": [
      "Fitting completed in 36.68 seconds.\n"
     ]
    }
   ],
   "source": [
    "rf = RandomForestClassifier(random_state=0)\n",
    "\n",
    "cv_params = {'max_depth': [2,3,4,5, None], \n",
    "             'min_samples_leaf': [1,2,3],\n",
    "             'min_samples_split': [2,3,4],\n",
    "             'max_features': [2,3,4],\n",
    "             'n_estimators': [75, 100, 125, 150]\n",
    "             }  \n",
    "\n",
    "scoring = {'accuracy', 'precision', 'recall', 'f1'}\n",
    "\n",
    "rf_random_cv = RandomizedSearchCV(rf,\n",
    "                                  cv_params,\n",
    "                                  scoring=scoring,\n",
    "                                  cv=5,\n",
    "                                  refit='f1',\n",
    "                                  n_iter=50, # You control how many combinations to try\n",
    "                                  random_state=42, # For reproducibility\n",
    "                                  n_jobs=-1) # Use all available CPU cores to speed it up\n",
    "\n",
    "# Start the clock and fit the model\n",
    "start_time = time.time()\n",
    "rf_random_cv.fit(X_train, y_train)\n",
    "end_time = time.time()\n",
    "\n",
    "print(f\"Fitting completed in {end_time - start_time:.2f} seconds.\")"
   ]
  },
  {
   "cell_type": "code",
   "execution_count": 51,
   "id": "cf500583",
   "metadata": {},
   "outputs": [
    {
     "name": "stdout",
     "output_type": "stream",
     "text": [
      "Best Parameters found:\n",
      "{'n_estimators': 100, 'min_samples_split': 3, 'min_samples_leaf': 2, 'max_features': 4, 'max_depth': None}\n"
     ]
    }
   ],
   "source": [
    "print(\"Best Parameters found:\")\n",
    "print(rf_random_cv.best_params_)"
   ]
  },
  {
   "cell_type": "code",
   "execution_count": 52,
   "id": "1b26b0ba",
   "metadata": {},
   "outputs": [],
   "source": [
    "# Predict on the validation set\n",
    "y_pred_val = rf_random_cv.predict(X_val)\n",
    "y_pred_proba_val = rf_random_cv.predict_proba(X_val)[:, 1]"
   ]
  },
  {
   "cell_type": "code",
   "execution_count": 53,
   "id": "755ba3bc",
   "metadata": {},
   "outputs": [
    {
     "name": "stdout",
     "output_type": "stream",
     "text": [
      "           Logistic Regression  Random Forest\n",
      "Accuracy              0.823670       0.981732\n",
      "Precision             0.419753       0.976923\n",
      "Recall                0.162679       0.911483\n",
      "F1-Score              0.234483       0.943069\n",
      "ROC AUC               0.827487       0.982165\n"
     ]
    }
   ],
   "source": [
    "# Calculate metrics for the Random Forest\n",
    "rf_accuracy = accuracy_score(y_val, y_pred_val)\n",
    "rf_precision = precision_score(y_val, y_pred_val)\n",
    "rf_recall = recall_score(y_val, y_pred_val)\n",
    "rf_f1 = f1_score(y_val, y_pred_val)\n",
    "rf_roc_auc = roc_auc_score(y_val, y_pred_proba_val)\n",
    "\n",
    "# Add the metrics to your comparison DataFrame\n",
    "metrics_df['Random Forest'] = [rf_accuracy, rf_precision, rf_recall, rf_f1, rf_roc_auc]\n",
    "\n",
    "print(metrics_df)"
   ]
  },
  {
   "cell_type": "markdown",
   "id": "117e39e1",
   "metadata": {},
   "source": [
    "### XGBoost"
   ]
  },
  {
   "cell_type": "code",
   "execution_count": 54,
   "id": "19f57344",
   "metadata": {},
   "outputs": [
    {
     "name": "stdout",
     "output_type": "stream",
     "text": [
      "Calculated scale_pos_weight: 5.02\n",
      "Starting XGBoost tuning...\n",
      "XGBoost tuning completed in 5.40 seconds.\n",
      "\n",
      "Best Parameters found:\n",
      "{'learning_rate': 0.2, 'max_depth': 8, 'min_child_weight': 1, 'n_estimators': 100}\n",
      "\n",
      "Updated Metrics Comparison Table:\n",
      "           Logistic Regression  Random Forest  XGBoost_GridSearch\n",
      "Accuracy                0.8237         0.9817              0.9849\n",
      "Precision               0.4198         0.9769              0.9798\n",
      "Recall                  0.1627         0.9115              0.9282\n",
      "F1-Score                0.2345         0.9431              0.9533\n",
      "ROC AUC                 0.8275         0.9822              0.9842\n"
     ]
    }
   ],
   "source": [
    "# Calculate scale_pos_weight\n",
    "# --- Step 1: Handle Class Imbalance (Do this once) ---\n",
    "# Calculate the ratio for scale_pos_weight using your training data\n",
    "ratio = y_train.value_counts()[0] / y_train.value_counts()[1]\n",
    "print(f\"Calculated scale_pos_weight: {ratio:.2f}\")\n",
    "\n",
    "\n",
    "# --- Step 2: Set up the Model and Randomized Search ---\n",
    "# Initialize the model with the ratio\n",
    "xgb = XGBClassifier(objective='binary:logistic', random_state=0, scale_pos_weight=ratio)\n",
    "\n",
    "# Define the parameter grid (same as yours)\n",
    "cv_params = {'max_depth': [7, 8],\n",
    "             'min_child_weight': [1, 2,],\n",
    "             'learning_rate': [0.1, 0.2],\n",
    "             'n_estimators': [75, 100] # Added a few more options\n",
    "            }\n",
    "\n",
    "# Define the scoring metrics\n",
    "scoring = ['accuracy', 'precision', 'recall', 'f1']\n",
    "\n",
    "# Set up RandomizedSearchCV\n",
    "xgb_cv_gs = GridSearchCV(xgb,\n",
    "                            cv_params,\n",
    "                            scoring=scoring,\n",
    "                            cv=5,\n",
    "                            refit='f1',\n",
    "                            n_jobs=-1)      # Use all CPU cores\n",
    "\n",
    "\n",
    "# --- Step 3: Fit the model ---\n",
    "print(\"Starting XGBoost tuning...\")\n",
    "start_time = time.time()\n",
    "xgb_cv_gs.fit(X_train, y_train)\n",
    "end_time = time.time()\n",
    "print(f\"XGBoost tuning completed in {end_time - start_time:.2f} seconds.\")\n",
    "\n",
    "\n",
    "# --- Step 4: Check results and update your metrics table (Next Steps) ---\n",
    "print(\"\\nBest Parameters found:\")\n",
    "print(xgb_cv_gs.best_params_)\n",
    "\n",
    "# Predict on the validation set\n",
    "y_pred_val = xgb_cv_gs.predict(X_val)\n",
    "y_pred_proba_val = xgb_cv_gs.predict_proba(X_val)[:, 1]\n",
    "\n",
    "# Calculate and store metrics\n",
    "metrics_df['XGBoost_GridSearch'] = [\n",
    "    accuracy_score(y_val, y_pred_val),\n",
    "    precision_score(y_val, y_pred_val),\n",
    "    recall_score(y_val, y_pred_val),\n",
    "    f1_score(y_val, y_pred_val),\n",
    "    roc_auc_score(y_val, y_pred_proba_val)\n",
    "]\n",
    "\n",
    "print(\"\\nUpdated Metrics Comparison Table:\")\n",
    "print(metrics_df.round(4))"
   ]
  },
  {
   "cell_type": "code",
   "execution_count": 55,
   "id": "7fc05912",
   "metadata": {},
   "outputs": [
    {
     "name": "stdout",
     "output_type": "stream",
     "text": [
      "Starting XGBoost tuning...\n",
      "XGBoost tuning completed in 18.49 seconds.\n",
      "\n",
      "Best Parameters found:\n",
      "{'n_estimators': 200, 'min_child_weight': 2, 'max_depth': 8, 'learning_rate': 0.1}\n",
      "\n",
      "Updated Metrics Comparison Table:\n",
      "           Logistic Regression  Random Forest  XGBoost_GridSearch  \\\n",
      "Accuracy                0.8237         0.9817              0.9849   \n",
      "Precision               0.4198         0.9769              0.9798   \n",
      "Recall                  0.1627         0.9115              0.9282   \n",
      "F1-Score                0.2345         0.9431              0.9533   \n",
      "ROC AUC                 0.8275         0.9822              0.9842   \n",
      "\n",
      "           XGBoost_Randomized CV  \n",
      "Accuracy                  0.9829  \n",
      "Precision                 0.9676  \n",
      "Recall                    0.9282  \n",
      "F1-Score                  0.9475  \n",
      "ROC AUC                   0.9834  \n"
     ]
    }
   ],
   "source": [
    "# Define the parameter grid (same as yours)\n",
    "cv_params = {'max_depth': [4, 5, 6, 7, 8],\n",
    "             'min_child_weight': [1, 2, 3, 4, 5],\n",
    "             'learning_rate': [0.1, 0.2, 0.3],\n",
    "             'n_estimators': [75, 100, 125, 150, 200] # Added a few more options\n",
    "            }\n",
    "\n",
    "# Define the scoring metrics\n",
    "scoring = ['accuracy', 'precision', 'recall', 'f1']\n",
    "\n",
    "# Set up RandomizedSearchCV\n",
    "xgb_cv = RandomizedSearchCV(xgb,\n",
    "                            cv_params,\n",
    "                            scoring=scoring,\n",
    "                            cv=5,\n",
    "                            refit='f1',\n",
    "                            n_iter=50,      # Test 50 random combinations\n",
    "                            random_state=42,\n",
    "                            n_jobs=-1)      # Use all CPU cores\n",
    "\n",
    "\n",
    "# --- Step 3: Fit the model ---\n",
    "print(\"Starting XGBoost tuning...\")\n",
    "start_time = time.time()\n",
    "xgb_cv.fit(X_train, y_train)\n",
    "end_time = time.time()\n",
    "print(f\"XGBoost tuning completed in {end_time - start_time:.2f} seconds.\")\n",
    "\n",
    "\n",
    "# --- Step 4: Check results and update your metrics table (Next Steps) ---\n",
    "print(\"\\nBest Parameters found:\")\n",
    "print(xgb_cv.best_params_)\n",
    "\n",
    "# Predict on the validation set\n",
    "y_pred_val = xgb_cv.predict(X_val)\n",
    "y_pred_proba_val = xgb_cv.predict_proba(X_val)[:, 1]\n",
    "\n",
    "# Calculate and store metrics\n",
    "metrics_df['XGBoost_Randomized CV'] = [\n",
    "    accuracy_score(y_val, y_pred_val),\n",
    "    precision_score(y_val, y_pred_val),\n",
    "    recall_score(y_val, y_pred_val),\n",
    "    f1_score(y_val, y_pred_val),\n",
    "    roc_auc_score(y_val, y_pred_proba_val)\n",
    "]\n",
    "\n",
    "print(\"\\nUpdated Metrics Comparison Table:\")\n",
    "print(metrics_df.round(4))"
   ]
  },
  {
   "cell_type": "markdown",
   "id": "7a60416f",
   "metadata": {},
   "source": [
    "Our best model is the XGBoost model with the Grid Search parameters."
   ]
  },
  {
   "cell_type": "code",
   "execution_count": 61,
   "id": "1383aaf2",
   "metadata": {},
   "outputs": [
    {
     "name": "stdout",
     "output_type": "stream",
     "text": [
      "Best Hyperparameters:\n",
      "{'learning_rate': 0.2, 'max_depth': 8, 'min_child_weight': 1, 'n_estimators': 100}\n"
     ]
    }
   ],
   "source": [
    "# Get the best parameters from your GridSearchCV\n",
    "best_params = xgb_cv_gs.best_params_\n",
    "\n",
    "print(\"Best Hyperparameters:\")\n",
    "print(best_params)"
   ]
  },
  {
   "cell_type": "markdown",
   "id": "68829370",
   "metadata": {},
   "source": [
    "## Model Evaluation"
   ]
  },
  {
   "cell_type": "markdown",
   "id": "dc4921e9",
   "metadata": {},
   "source": [
    "Once a champion is declared, we'll evaluate its prediction power."
   ]
  },
  {
   "cell_type": "code",
   "execution_count": 62,
   "id": "1821775d",
   "metadata": {},
   "outputs": [
    {
     "name": "stdout",
     "output_type": "stream",
     "text": [
      "\n",
      "Re-training the champion model on all available data...\n",
      "Re-training complete!\n"
     ]
    }
   ],
   "source": [
    "# Initialize the final model with all the best settings\n",
    "champion_model = XGBClassifier(objective='binary:logistic',\n",
    "                               random_state=0,\n",
    "                               scale_pos_weight=ratio, # The ratio we calculated before\n",
    "                               **best_params) # Unpack the rest of the best params\n",
    "\n",
    "# Re-train the model on the combined (train + validation) dataset\n",
    "print(\"\\nRe-training the champion model on all available data...\")\n",
    "champion_model.fit(X_tr, y_tr)\n",
    "print(\"Re-training complete!\")"
   ]
  },
  {
   "cell_type": "code",
   "execution_count": 63,
   "id": "7bbbbf0e",
   "metadata": {},
   "outputs": [
    {
     "name": "stdout",
     "output_type": "stream",
     "text": [
      "--- Final Model Performance on Test Set ---\n",
      "Accuracy: 0.9805\n",
      "Precision: 0.9520\n",
      "Recall: 0.9296\n",
      "F1-Score: 0.9407\n",
      "ROC AUC Score: 0.9838\n",
      "-------------------------------------------\n",
      "\n",
      "Classification Report:\n",
      "              precision    recall  f1-score   support\n",
      "\n",
      "       Stays       0.99      0.99      0.99      3001\n",
      "      Leaves       0.95      0.93      0.94       597\n",
      "\n",
      "    accuracy                           0.98      3598\n",
      "   macro avg       0.97      0.96      0.96      3598\n",
      "weighted avg       0.98      0.98      0.98      3598\n",
      "\n",
      "\n",
      "Confusion Matrix:\n"
     ]
    },
    {
     "data": {
      "image/png": "[encoded data removed]",
      "text/plain": [
       "<Figure size 432x288 with 2 Axes>"
      ]
     },
     "metadata": {
      "needs_background": "light"
     },
     "output_type": "display_data"
    },
    {
     "data": {
      "image/png": "[encoded data removed]",
      "text/plain": [
       "<Figure size 432x288 with 1 Axes>"
      ]
     },
     "metadata": {
      "needs_background": "light"
     },
     "output_type": "display_data"
    }
   ],
   "source": [
    "# --- Step 1: Make Predictions on the Test Set ---\n",
    "# Get the hard predictions (0s and 1s)\n",
    "y_pred_test = champion_model.predict(X_test)\n",
    "\n",
    "# Get the probability predictions for the positive class (for ROC AUC)\n",
    "y_pred_proba_test = champion_model.predict_proba(X_test)[:, 1]\n",
    "\n",
    "\n",
    "# --- Step 2: Calculate and Print Final Metrics ---\n",
    "print(\"--- Final Model Performance on Test Set ---\")\n",
    "accuracy_test = accuracy_score(y_test, y_pred_test)\n",
    "precision_test = precision_score(y_test, y_pred_test)\n",
    "recall_test = recall_score(y_test, y_pred_test)\n",
    "f1_test = f1_score(y_test, y_pred_test)\n",
    "roc_auc_test = roc_auc_score(y_test, y_pred_proba_test)\n",
    "\n",
    "print(f\"Accuracy: {accuracy_test:.4f}\")\n",
    "print(f\"Precision: {precision_test:.4f}\")\n",
    "print(f\"Recall: {recall_test:.4f}\")\n",
    "print(f\"F1-Score: {f1_test:.4f}\")\n",
    "print(f\"ROC AUC Score: {roc_auc_test:.4f}\")\n",
    "print(\"-------------------------------------------\")\n",
    "\n",
    "\n",
    "# --- Step 3: Visualize the Results ---\n",
    "\n",
    "# 3a. Classification Report\n",
    "# This provides a comprehensive breakdown of precision, recall, and f1-score\n",
    "# for both classes ('Stays' and 'Leaves').\n",
    "print(\"\\nClassification Report:\")\n",
    "print(classification_report(y_test, y_pred_test, target_names=['Stays', 'Leaves']))\n",
    "\n",
    "\n",
    "# 3b. Confusion Matrix\n",
    "# This shows the raw numbers of correct and incorrect predictions.\n",
    "print(\"\\nConfusion Matrix:\")\n",
    "cm = confusion_matrix(y_test, y_pred_test, labels=champion_model.classes_)\n",
    "disp = ConfusionMatrixDisplay(confusion_matrix=cm, display_labels=['Stays', 'Leaves'])\n",
    "\n",
    "disp.plot(values_format='d', cmap=plt.cm.Blues)\n",
    "plt.title(\"Confusion Matrix on Test Set\")\n",
    "plt.show()\n",
    "\n",
    "# --- 3c. ROC Curve (using the modern 'from_estimator' method) ---\n",
    "# This visualizes the model's ability to distinguish between classes.\n",
    "RocCurveDisplay.from_estimator(champion_model, X_test, y_test)\n",
    "plt.title(\"ROC Curve on Test Set\")\n",
    "plt.show()"
   ]
  },
  {
   "cell_type": "markdown",
   "id": "5ffd020a",
   "metadata": {},
   "source": [
    "Lastly, to get some insights we'll check the XGB feature importance method. This will indicate us which variables we need to pay more attention to."
   ]
  },
  {
   "cell_type": "code",
   "execution_count": 64,
   "id": "c0a928e3",
   "metadata": {},
   "outputs": [
    {
     "name": "stdout",
     "output_type": "stream",
     "text": [
      "--- Top 3 Most Important Features ---\n",
      "           Feature  Importance\n",
      "4           tenure    0.417670\n",
      "0     satisfaction    0.181961\n",
      "1  last_evaluation    0.058556\n",
      "------------------------------------\n"
     ]
    },
    {
     "data": {
      "image/png": "[encoded data removed]",
      "text/plain": [
       "<Figure size 864x576 with 1 Axes>"
      ]
     },
     "metadata": {
      "needs_background": "light"
     },
     "output_type": "display_data"
    }
   ],
   "source": [
    "feature_importance_df = pd.DataFrame({\n",
    "    'Feature': X_tr.columns,\n",
    "    'Importance': champion_model.feature_importances_\n",
    "}).sort_values(by='Importance', ascending=False) # Sort by importance\n",
    "\n",
    "\n",
    "# --- Step 2: Print the Top 10 Most Important Features ---\n",
    "print(\"--- Top 3 Most Important Features ---\")\n",
    "print(feature_importance_df.head(3))\n",
    "print(\"------------------------------------\")\n",
    "\n",
    "\n",
    "# --- Step 3: Visualize the Feature Importances ---\n",
    "# A horizontal bar chart is a great way to visualize this.\n",
    "plt.figure(figsize=(12, 8)) # Set the figure size for better readability\n",
    "\n",
    "sns.barplot(x='Importance', y='Feature', data=feature_importance_df)\n",
    "\n",
    "plt.title('XGBoost Feature Importance', fontsize=16)\n",
    "plt.xlabel('Importance Score', fontsize=12)\n",
    "plt.ylabel('Features', fontsize=12)\n",
    "plt.tight_layout() # Adjust layout to make sure everything fits without overlapping\n",
    "plt.show()"
   ]
  },
  {
   "cell_type": "code",
   "execution_count": 60,
   "id": "cb6ea208",
   "metadata": {},
   "outputs": [
    {
     "data": {
      "text/plain": [
       "['employee_resignation_model.pkl']"
      ]
     },
     "execution_count": 60,
     "metadata": {},
     "output_type": "execute_result"
    }
   ],
   "source": [
    "# --- Save the model to a file ---\n",
    "filename = 'employee_resignation_model.pkl'\n",
    "joblib.dump(champion_model, filename)\n",
    "\n",
    "# --- You can now load it back anytime like this ---\n",
    "# loaded_model = joblib.load(filename)\n",
    "# result = loaded_model.predict(some_new_data)"
   ]
  },
  {
   "cell_type": "markdown",
   "id": "fcfdc10e",
   "metadata": {},
   "source": [
    "## Conclusion and Next Steps\n",
    "`Tenure` is the **Decisive Factor**: The single most dominant predictor of resignation is employee tenure, with an importance score of over 0.40. This strongly suggests that critical challenges and inflection points exist at specific stages of the employee lifecycle.\n",
    "`Satisfaction` is a **Major Contributor**: After tenure, employee satisfaction level is the second most crucial factor (importance close to 0.20), confirming that daily job contentment remains a core pillar of employee retention.\n",
    "`Workload` and `Performance Recognition` follow: Factors related to workload and career feedback, specifically number of projects and last performance evaluation, also play a significant role, though they are secondary to the primary drivers of tenure and satisfaction."
   ]
  }
 ],
 "metadata": {
  "kernelspec": {
   "display_name": "Python 3 (ipykernel)",
   "language": "python",
   "name": "python3"
  },
  "language_info": {
   "codemirror_mode": {
    "name": "ipython",
    "version": 3
   },
   "file_extension": ".py",
   "mimetype": "text/x-python",
   "name": "python",
   "nbconvert_exporter": "python",
   "pygments_lexer": "ipython3",
   "version": "3.9.12"
  }
 },
 "nbformat": 4,
 "nbformat_minor": 5
}
